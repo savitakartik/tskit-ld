{
 "cells": [
  {
   "cell_type": "code",
   "execution_count": 1,
   "metadata": {},
   "outputs": [
    {
     "name": "stderr",
     "output_type": "stream",
     "text": [
      "/nfs_home/users/osvk/.conda/envs/msprime-tskit-env/lib/python3.11/site-packages/stdpopsim/catalog/HomSap/demographic_models.py:158: FutureWarning: Calling int on a single element Series is deprecated and will raise a TypeError in the future. Use int(ser.iloc[0]) instead\n",
      "  time=int(extended_GF.time.head(1) - 1), rate=0\n",
      "/nfs_home/users/osvk/.conda/envs/msprime-tskit-env/lib/python3.11/site-packages/stdpopsim/catalog/HomSap/demographic_models.py:161: FutureWarning: Calling int on a single element Series is deprecated and will raise a TypeError in the future. Use int(ser.iloc[0]) instead\n",
      "  time=int(extended_GF.time.tail(1) + 1), rate=0\n"
     ]
    },
    {
     "data": {
      "text/plain": [
       "<module 'ld_calculator' from '/nfs_home/users/osvk/projects/tskit-ld/ld_calculator.py'>"
      ]
     },
     "execution_count": 1,
     "metadata": {},
     "output_type": "execute_result"
    }
   ],
   "source": [
    "import stdpopsim\n",
    "import matplotlib.pyplot as plt\n",
    "import numpy as np\n",
    "import tskit\n",
    "import importlib\n",
    "import ld_calculator\n",
    "\n",
    "importlib.reload(ld_calculator)"
   ]
  },
  {
   "attachments": {},
   "cell_type": "markdown",
   "metadata": {},
   "source": [
    "First, we simulate trees for 80,000 samples using an Out of Africa model. To do this we use stdpopsim, specifying the OutOfAfrica_2T12 two-population model and ask for 40,000 sample nodes each from YRI and EUR populations. The trees are saved to file (ts_OutOfAfrica_2T12_80k.trees), so for future runs we simply load the .trees file."
   ]
  },
  {
   "cell_type": "code",
   "execution_count": 2,
   "metadata": {},
   "outputs": [
    {
     "data": {
      "text/plain": [
       "' species = stdpopsim.get_species(\"HomSap\")\\ncontig = species.get_contig(\"chr22\")\\nmodel = species.get_demographic_model(\"OutOfAfrica_2T12\")\\nsamples = model.get_samples(num_samples, num_samples)\\nengine = stdpopsim.get_default_engine()\\nts = engine.simulate(model, contig, samples)\\nprint(\\n    \"simulated {} trees and {} sites, from {} samples.\".format(\\n        ts.num_trees, ts.num_sites, ts.num_samples\\n    )\\n) \\n# ts.dump(\"ts_OutOfAfrica_2T12_80k.trees\")'"
      ]
     },
     "execution_count": 2,
     "metadata": {},
     "output_type": "execute_result"
    }
   ],
   "source": [
    "num_samples = 40_000\n",
    "\"\"\" species = stdpopsim.get_species(\"HomSap\")\n",
    "contig = species.get_contig(\"chr22\")\n",
    "model = species.get_demographic_model(\"OutOfAfrica_2T12\")\n",
    "samples = model.get_samples(num_samples, num_samples)\n",
    "engine = stdpopsim.get_default_engine()\n",
    "ts = engine.simulate(model, contig, samples)\n",
    "print(\n",
    "    \"simulated {} trees and {} sites, from {} samples.\".format(\n",
    "        ts.num_trees, ts.num_sites, ts.num_samples\n",
    "    )\n",
    ") \n",
    "# ts.dump(\"ts_OutOfAfrica_2T12_80k.trees\")\"\"\""
   ]
  },
  {
   "cell_type": "code",
   "execution_count": 3,
   "metadata": {},
   "outputs": [
    {
     "data": {
      "text/html": [
       "\n",
       "            <div>\n",
       "              <style>\n",
       "                .tskit-table thead tr th {text-align: left;padding: 0.5em 0.5em;}\n",
       "                .tskit-table tbody tr td {padding: 0.5em 0.5em;}\n",
       "                .tskit-table tbody tr td:first-of-type {text-align: left;}\n",
       "                .tskit-details-label {vertical-align: top; padding-right:5px;}\n",
       "                .tskit-table-set {display: inline-flex;flex-wrap: wrap;margin: -12px 0 0 -12px;width: calc(100% + 12px);}\n",
       "                .tskit-table-set-table {margin: 12px 0 0 12px;}\n",
       "                details {display: inline-block;}\n",
       "                summary {cursor: pointer; outline: 0; display: list-item;}\n",
       "              </style>\n",
       "              <div class=\"tskit-table-set\">\n",
       "                <div class=\"tskit-table-set-table\">\n",
       "                  <table class=\"tskit-table\">\n",
       "                    <thead>\n",
       "                      <tr>\n",
       "                        <th style=\"padding:0;line-height:21px;\">\n",
       "                          <img style=\"height: 32px;display: inline-block;padding: 3px 5px 3px 0;\" src=\"https://raw.githubusercontent.com/tskit-dev/administrative/main/tskit_logo.svg\"/>\n",
       "                          <a target=\"_blank\" href=\"https://tskit.dev/tskit/docs/latest/python-api.html#the-treesequence-class\"> Tree Sequence </a>\n",
       "                        </th>\n",
       "                      </tr>\n",
       "                    </thead>\n",
       "                    <tbody>\n",
       "                      <tr><td>Trees</td><td>4478581</td></tr>\n",
       "                      <tr><td>Sequence Length</td><td>50818468.0</td></tr>\n",
       "                      <tr><td>Time Units</td><td>generations</td></tr>\n",
       "                      <tr><td>Sample Nodes</td><td>80000</td></tr>\n",
       "                      <tr><td>Total Size</td><td>965.7 MiB</td></tr>\n",
       "                      <tr>\n",
       "                        <td>Metadata</td><td style=\"text-align: left;\">No Metadata</td></tr>\n",
       "                    </tbody>\n",
       "                  </table>\n",
       "                </div>\n",
       "                <div class=\"tskit-table-set-table\">\n",
       "                  <table class=\"tskit-table\">\n",
       "                    <thead>\n",
       "                      <tr>\n",
       "                        <th style=\"line-height:21px;\">Table</th>\n",
       "                        <th>Rows</th>\n",
       "                        <th>Size</th>\n",
       "                        <th>Has Metadata</th>\n",
       "                      </tr>\n",
       "                    </thead>\n",
       "                    <tbody>\n",
       "                    \n",
       "                  <tr>\n",
       "                    <td>Edges</td>\n",
       "                      <td>18841209</td>\n",
       "                      <td>575.0 MiB</td>\n",
       "                      <td style=\"text-align: center;\">\n",
       "                        \n",
       "                      </td>\n",
       "                    </tr>\n",
       "                \n",
       "                  <tr>\n",
       "                    <td>Individuals</td>\n",
       "                      <td>80000</td>\n",
       "                      <td>2.1 MiB</td>\n",
       "                      <td style=\"text-align: center;\">\n",
       "                        \n",
       "                      </td>\n",
       "                    </tr>\n",
       "                \n",
       "                  <tr>\n",
       "                    <td>Migrations</td>\n",
       "                      <td>0</td>\n",
       "                      <td>8 Bytes</td>\n",
       "                      <td style=\"text-align: center;\">\n",
       "                        \n",
       "                      </td>\n",
       "                    </tr>\n",
       "                \n",
       "                  <tr>\n",
       "                    <td>Mutations</td>\n",
       "                      <td>2888131</td>\n",
       "                      <td>101.9 MiB</td>\n",
       "                      <td style=\"text-align: center;\">\n",
       "                        \n",
       "                      </td>\n",
       "                    </tr>\n",
       "                \n",
       "                  <tr>\n",
       "                    <td>Nodes</td>\n",
       "                      <td>2846858</td>\n",
       "                      <td>76.0 MiB</td>\n",
       "                      <td style=\"text-align: center;\">\n",
       "                        \n",
       "                      </td>\n",
       "                    </tr>\n",
       "                \n",
       "                  <tr>\n",
       "                    <td>Populations</td>\n",
       "                      <td>2</td>\n",
       "                      <td>354 Bytes</td>\n",
       "                      <td style=\"text-align: center;\">\n",
       "                        ✅\n",
       "                      </td>\n",
       "                    </tr>\n",
       "                \n",
       "                  <tr>\n",
       "                    <td>Provenances</td>\n",
       "                      <td>2</td>\n",
       "                      <td>3.5 KiB</td>\n",
       "                      <td style=\"text-align: center;\">\n",
       "                        \n",
       "                      </td>\n",
       "                    </tr>\n",
       "                \n",
       "                  <tr>\n",
       "                    <td>Sites</td>\n",
       "                      <td>2807823</td>\n",
       "                      <td>66.9 MiB</td>\n",
       "                      <td style=\"text-align: center;\">\n",
       "                        \n",
       "                      </td>\n",
       "                    </tr>\n",
       "                \n",
       "                    </tbody>\n",
       "                  </table>\n",
       "                </div>\n",
       "              </div>\n",
       "            </div>\n",
       "            "
      ],
      "text/plain": [
       "<tskit.trees.TreeSequence at 0x7faabe3034d0>"
      ]
     },
     "execution_count": 3,
     "metadata": {},
     "output_type": "execute_result"
    }
   ],
   "source": [
    "ts = tskit.load(\"ts_OutOfAfrica_2T12_80k.trees\")\n",
    "ts"
   ]
  },
  {
   "attachments": {},
   "cell_type": "markdown",
   "metadata": {},
   "source": [
    "We split the tree sequence into ancestry-specific trees so we can look at within-cohort calculation times."
   ]
  },
  {
   "cell_type": "code",
   "execution_count": 4,
   "metadata": {},
   "outputs": [],
   "source": [
    "YRI_samples = ts.samples(0)\n",
    "EUR_samples = ts.samples(1)\n",
    "ts_YRI = ts.simplify(samples=YRI_samples)\n",
    "ts_EUR = ts.simplify(samples=EUR_samples)"
   ]
  },
  {
   "cell_type": "code",
   "execution_count": 5,
   "metadata": {},
   "outputs": [],
   "source": [
    "# select 20_000 random samples from each population\n",
    "#samples_subset = np.random.choice(YRI_samples, int(num_samples / 2), replace=False)\n",
    "#samples_subset = np.append(\n",
    "#    samples_subset, np.random.choice(EUR_samples, int(num_samples / 2), replace=False)\n",
    "#)\n",
    "#ts_sub = ts.simplify(samples=samples_subset)\n",
    "#ts_sub"
   ]
  },
  {
   "attachments": {},
   "cell_type": "markdown",
   "metadata": {},
   "source": [
    "ld_calculator.py defines some methods to query pairwise-LD using the r2 method in tskit's LD calculator class. We use these to calculate the LD between 500 randomly selected variant pairs located within 200 kb of each other. We keep track of the cpu time taken for each query and the distance between variants in each pair."
   ]
  },
  {
   "cell_type": "code",
   "execution_count": 6,
   "metadata": {},
   "outputs": [],
   "source": [
    "def calc_ld_by_pop(ts, chr, num_sites, max_dist):\n",
    "    ld_calc = ld_calculator.LdInfo(ts, chr)\n",
    "    sites_a = np.sort(\n",
    "        np.random.choice(ld_calc.get_single_mutation_sites(), size=num_sites)\n",
    "    )\n",
    "    sites_b = ld_calc.return_random_sites_in_range(sites_a, max_dist=max_dist)\n",
    "    r2, compute_times = ld_calc.compute_ld_with_time(sites_a, sites_b)\n",
    "    distances = ld_calc.compute_distance_between_sites(sites_a, sites_b)\n",
    "    distances = np.array(distances) / 1_000\n",
    "    return r2, distances, compute_times"
   ]
  },
  {
   "cell_type": "code",
   "execution_count": 7,
   "metadata": {},
   "outputs": [],
   "source": [
    "# sample 500 sites from the full and population-specific trees\n",
    "num_sites = 500\n",
    "max_dist = 200_000\n",
    "chr = 22\n",
    "EUR_r2, EUR_distances, EUR_compute_times = calc_ld_by_pop(\n",
    "    ts_EUR, chr, num_sites, max_dist\n",
    ")\n",
    "YRI_r2, YRI_distances, YRI_compute_times = calc_ld_by_pop(\n",
    "    ts_YRI, chr, num_sites, max_dist\n",
    ")\n",
    "#EUR_YRI_r2, EUR_YRI_distances, EUR_YRI_compute_times = calc_ld_by_pop(\n",
    "#    ts_sub, chr, num_sites, max_dist\n",
    "#)"
   ]
  },
  {
   "cell_type": "code",
   "execution_count": 10,
   "metadata": {},
   "outputs": [
    {
     "data": {
      "image/png": "[encoded data removed]",
      "text/plain": [
       "<Figure size 640x480 with 1 Axes>"
      ]
     },
     "metadata": {},
     "output_type": "display_data"
    }
   ],
   "source": [
    "# distribution of distances\n",
    "plt.hist(YRI_distances, alpha=0.3, label=\"YRI\")\n",
    "plt.hist(EUR_distances, alpha=0.3, label=\"EUR\")\n",
    "#plt.hist(EUR_YRI_distances, alpha=0.3, label=\"YRI + EUR\")\n",
    "plt.xlabel(\"Distance between sites (kb)\")\n",
    "plt.ylabel(\"Count\")\n",
    "plt.legend()\n",
    "plt.show()"
   ]
  },
  {
   "attachments": {},
   "cell_type": "markdown",
   "metadata": {},
   "source": [
    "We can then plot the time taken for a query as a function of the distance between the queried variants. We expect a linear relationship, with far-away variants requiring more time. We calculate Pearson's correlation coefficient within ancestries and overall, and draw lines of best fit."
   ]
  },
  {
   "cell_type": "code",
   "execution_count": 9,
   "metadata": {},
   "outputs": [
    {
     "name": "stderr",
     "output_type": "stream",
     "text": [
      "/nfs_home/users/osvk/.conda/envs/msprime-tskit-env/lib/python3.11/site-packages/numpy/lib/function_base.py:2854: RuntimeWarning: invalid value encountered in divide\n",
      "  c /= stddev[:, None]\n",
      "/nfs_home/users/osvk/.conda/envs/msprime-tskit-env/lib/python3.11/site-packages/numpy/lib/function_base.py:2855: RuntimeWarning: invalid value encountered in divide\n",
      "  c /= stddev[None, :]\n"
     ]
    },
    {
     "ename": "NameError",
     "evalue": "name 'EUR_YRI_distances' is not defined",
     "output_type": "error",
     "traceback": [
      "\u001b[0;31m---------------------------------------------------------------------------\u001b[0m",
      "\u001b[0;31mNameError\u001b[0m                                 Traceback (most recent call last)",
      "Cell \u001b[0;32mIn[9], line 8\u001b[0m\n\u001b[1;32m      6\u001b[0m corr_YRI \u001b[39m=\u001b[39m \u001b[39mf\u001b[39m\u001b[39m\"\u001b[39m\u001b[39mYRI (corr = \u001b[39m\u001b[39m{\u001b[39;00mnp\u001b[39m.\u001b[39mcorrcoef(YRI_distances,\u001b[39m \u001b[39mYRI_compute_times)[\u001b[39m0\u001b[39m,\u001b[39m1\u001b[39m]\u001b[39m:\u001b[39;00m\u001b[39m.2f\u001b[39m\u001b[39m}\u001b[39;00m\u001b[39m)\u001b[39m\u001b[39m\"\u001b[39m\n\u001b[1;32m      7\u001b[0m corr_EUR \u001b[39m=\u001b[39m \u001b[39mf\u001b[39m\u001b[39m\"\u001b[39m\u001b[39mEUR (corr = \u001b[39m\u001b[39m{\u001b[39;00mnp\u001b[39m.\u001b[39mcorrcoef(EUR_distances,\u001b[39m \u001b[39mEUR_compute_times)[\u001b[39m0\u001b[39m,\u001b[39m1\u001b[39m]\u001b[39m:\u001b[39;00m\u001b[39m.2f\u001b[39m\u001b[39m}\u001b[39;00m\u001b[39m)\u001b[39m\u001b[39m\"\u001b[39m\n\u001b[0;32m----> 8\u001b[0m corr_EUR_YRI \u001b[39m=\u001b[39m \u001b[39mf\u001b[39m\u001b[39m\"\u001b[39m\u001b[39mYRI + EUR  (corr = \u001b[39m\u001b[39m{\u001b[39;00mnp\u001b[39m.\u001b[39mcorrcoef(EUR_YRI_distances,\u001b[39m \u001b[39mEUR_YRI_compute_times)[\u001b[39m0\u001b[39m,\u001b[39m1\u001b[39m]\u001b[39m:\u001b[39;00m\u001b[39m.2f\u001b[39m\u001b[39m}\u001b[39;00m\u001b[39m)\u001b[39m\u001b[39m\"\u001b[39m\n\u001b[1;32m      9\u001b[0m plt\u001b[39m.\u001b[39mplot(\n\u001b[1;32m     10\u001b[0m     np\u001b[39m.\u001b[39munique(YRI_distances),\n\u001b[1;32m     11\u001b[0m     np\u001b[39m.\u001b[39mpoly1d(np\u001b[39m.\u001b[39mpolyfit(YRI_distances, YRI_compute_times, \u001b[39m1\u001b[39m))(\n\u001b[0;32m   (...)\u001b[0m\n\u001b[1;32m     16\u001b[0m     alpha\u001b[39m=\u001b[39m\u001b[39m0.5\u001b[39m,\n\u001b[1;32m     17\u001b[0m )\n\u001b[1;32m     18\u001b[0m plt\u001b[39m.\u001b[39mplot(\n\u001b[1;32m     19\u001b[0m     np\u001b[39m.\u001b[39munique(EUR_distances),\n\u001b[1;32m     20\u001b[0m     np\u001b[39m.\u001b[39mpoly1d(np\u001b[39m.\u001b[39mpolyfit(EUR_distances, EUR_compute_times, \u001b[39m1\u001b[39m))(\n\u001b[0;32m   (...)\u001b[0m\n\u001b[1;32m     25\u001b[0m     alpha\u001b[39m=\u001b[39m\u001b[39m0.5\u001b[39m,\n\u001b[1;32m     26\u001b[0m )\n",
      "\u001b[0;31mNameError\u001b[0m: name 'EUR_YRI_distances' is not defined"
     ]
    },
    {
     "data": {
      "image/png": "[encoded data removed]",
      "text/plain": [
       "<Figure size 640x480 with 1 Axes>"
      ]
     },
     "metadata": {},
     "output_type": "display_data"
    }
   ],
   "source": [
    "# dist v time\n",
    "plt.scatter(YRI_distances, YRI_compute_times, alpha=0.2, label=\"YRI\")\n",
    "plt.scatter(EUR_distances, EUR_compute_times, alpha=0.2, label=\"EUR\")\n",
    "#plt.scatter(EUR_YRI_distances, EUR_YRI_compute_times, alpha=0.2, label=\"YRI + EUR\")\n",
    "\n",
    "corr_YRI = f\"YRI (corr = {np.corrcoef(YRI_distances, YRI_compute_times)[0,1]:.2f})\"\n",
    "corr_EUR = f\"EUR (corr = {np.corrcoef(EUR_distances, EUR_compute_times)[0,1]:.2f})\"\n",
    "corr_EUR_YRI = f\"YRI + EUR  (corr = {np.corrcoef(EUR_YRI_distances, EUR_YRI_compute_times)[0,1]:.2f})\"\n",
    "plt.plot(\n",
    "    np.unique(YRI_distances),\n",
    "    np.poly1d(np.polyfit(YRI_distances, YRI_compute_times, 1))(\n",
    "        np.unique(YRI_distances)\n",
    "    ),\n",
    "    label=f\"{corr_YRI}\",\n",
    "    linewidth=2,\n",
    "    alpha=0.5,\n",
    ")\n",
    "plt.plot(\n",
    "    np.unique(EUR_distances),\n",
    "    np.poly1d(np.polyfit(EUR_distances, EUR_compute_times, 1))(\n",
    "        np.unique(EUR_distances)\n",
    "    ),\n",
    "    label=f\"{corr_EUR}\",\n",
    "    linewidth=2,\n",
    "    alpha=0.5,\n",
    ")\n",
    "#plt.plot(\n",
    "#    np.unique(EUR_YRI_distances),\n",
    "#    np.poly1d(np.polyfit(EUR_YRI_distances, EUR_YRI_compute_times, 1))(\n",
    "#        np.unique(EUR_YRI_distances)\n",
    "#    ),\n",
    "#    label=f\"{corr_EUR_YRI}\",\n",
    "#    linewidth=2,\n",
    "#    alpha=0.5,\n",
    "#)\n",
    "plt.title(\n",
    "    f\"Time taken vs distance within populations\\n({num_sites:,} variant pairs, {num_samples:,} samples)\"\n",
    ")\n",
    "plt.xlabel(\"Distance between sites (kb)\")\n",
    "plt.ylabel(\"Time taken (s)\")\n",
    "plt.legend()\n",
    "plt.show()"
   ]
  },
  {
   "cell_type": "code",
   "execution_count": null,
   "metadata": {},
   "outputs": [
    {
     "data": {
      "image/png": "[encoded data removed]",
      "text/plain": [
       "<Figure size 640x480 with 1 Axes>"
      ]
     },
     "metadata": {},
     "output_type": "display_data"
    }
   ],
   "source": [
    "# r2 v distance\n",
    "plt.scatter(YRI_distances, YRI_r2, alpha=0.5, label=\"YRI\")\n",
    "plt.scatter(EUR_distances, EUR_r2, alpha=0.5, label=\"EUR\")\n",
    "#plt.scatter(EUR_YRI_distances, EUR_YRI_r2, alpha=0.5, label=\"YRI + EUR\")\n",
    "plt.xlabel(\"Distance between sites (kb)\")\n",
    "plt.ylabel(\"LD r2\")\n",
    "plt.title(\"LD vs. distance between sites\")\n",
    "plt.legend()\n",
    "plt.show()"
   ]
  }
 ],
 "metadata": {
  "kernelspec": {
   "display_name": "Python 3",
   "language": "python",
   "name": "python3"
  },
  "language_info": {
   "codemirror_mode": {
    "name": "ipython",
    "version": 3
   },
   "file_extension": ".py",
   "mimetype": "text/x-python",
   "name": "python",
   "nbconvert_exporter": "python",
   "pygments_lexer": "ipython3",
   "version": "3.11.0"
  },
  "orig_nbformat": 4
 },
 "nbformat": 4,
 "nbformat_minor": 2
}
